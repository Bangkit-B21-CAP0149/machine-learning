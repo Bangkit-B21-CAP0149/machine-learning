{
  "nbformat": 4,
  "nbformat_minor": 0,
  "metadata": {
    "colab": {
      "name": "Data Exploration.ipynb",
      "provenance": [],
      "collapsed_sections": [],
      "toc_visible": true
    },
    "kernelspec": {
      "name": "python3",
      "display_name": "Python 3"
    },
    "language_info": {
      "name": "python"
    }
  },
  "cells": [
    {
      "cell_type": "code",
      "metadata": {
        "id": "0rVbtws60gSm"
      },
      "source": [
        "import pandas as pd\n",
        "import matplotlib.pyplot as plt\n",
        "import seaborn as sns"
      ],
      "execution_count": 1,
      "outputs": []
    },
    {
      "cell_type": "code",
      "metadata": {
        "colab": {
          "base_uri": "https://localhost:8080/"
        },
        "id": "3JrO1isJjj8s",
        "outputId": "55308aa4-2a2f-4596-944b-3711ec7af65c"
      },
      "source": [
        "vra = open('/content/drive/MyDrive/Bangkit Academy/Final Project - Capstone/03 Dataset/Domestic Violence in Spain 2003-2017.csv', 'r', errors='ignore').readlines()\n",
        "\n",
        "# Preview\n",
        "for row in vra[:5]:\n",
        "  print(row.split(','))\n",
        "\n",
        "print('\\nNumber of Rows:',len(vra))"
      ],
      "execution_count": 2,
      "outputs": [
        {
          "output_type": "stream",
          "text": [
            "['Month', 'Year', 'Autonomous Community', 'Province', 'Relation', 'Victim Age', 'Agressor Age', 'Previous Abuse Report', 'Living Together', 'Victims\\n']\n",
            "['January', '2003', 'Andaluca', 'Almera', 'Partner', '41-50 years', '51-64 years', 'Unknown', 'Yes', '1\\n']\n",
            "['January', '2003', 'Andaluca', 'Granada', 'Partner', '75-84 years', '75-84 years', 'Unknown', 'Yes', '1\\n']\n",
            "['January', '2003', 'Andaluca', 'Mlaga', 'Partner', '21-30 years', 'Unknown', 'Unknown', 'Yes', '1\\n']\n",
            "['January', '2003', 'Canarias', 'Santa Cruz de Tenerife', 'Partner', '31-40 years', 'Unknown', 'Unknown', 'Yes', '1\\n']\n",
            "\n",
            "Number of Rows: 901\n"
          ],
          "name": "stdout"
        }
      ]
    },
    {
      "cell_type": "code",
      "metadata": {
        "id": "nd4tj6aXrQhS"
      },
      "source": [
        "vra_splited = []\n",
        "for row in vra:\n",
        "  vra_splited.append(row.split(','))"
      ],
      "execution_count": 4,
      "outputs": []
    },
    {
      "cell_type": "code",
      "metadata": {
        "id": "mRGZJZ66r4Hk"
      },
      "source": [
        "def remove_n(text):\n",
        "  return text[:-1]"
      ],
      "execution_count": 5,
      "outputs": []
    },
    {
      "cell_type": "code",
      "metadata": {
        "colab": {
          "base_uri": "https://localhost:8080/",
          "height": 306
        },
        "id": "JvUcrYzAlFyn",
        "outputId": "e0cfff4c-0f33-4d16-f495-b5d63f71bfc0"
      },
      "source": [
        "df_vra = pd.DataFrame(vra_splited)\n",
        "df_vra[9] = df_vra[9].apply(lambda x: remove_n(x))\n",
        "df_vra.columns = df_vra.iloc[0]\n",
        "df_vra = df_vra.iloc[1:].reset_index(drop=True)\n",
        "df_vra.head()"
      ],
      "execution_count": 6,
      "outputs": [
        {
          "output_type": "execute_result",
          "data": {
            "text/html": [
              "<div>\n",
              "<style scoped>\n",
              "    .dataframe tbody tr th:only-of-type {\n",
              "        vertical-align: middle;\n",
              "    }\n",
              "\n",
              "    .dataframe tbody tr th {\n",
              "        vertical-align: top;\n",
              "    }\n",
              "\n",
              "    .dataframe thead th {\n",
              "        text-align: right;\n",
              "    }\n",
              "</style>\n",
              "<table border=\"1\" class=\"dataframe\">\n",
              "  <thead>\n",
              "    <tr style=\"text-align: right;\">\n",
              "      <th></th>\n",
              "      <th>Month</th>\n",
              "      <th>Year</th>\n",
              "      <th>Autonomous Community</th>\n",
              "      <th>Province</th>\n",
              "      <th>Relation</th>\n",
              "      <th>Victim Age</th>\n",
              "      <th>Agressor Age</th>\n",
              "      <th>Previous Abuse Report</th>\n",
              "      <th>Living Together</th>\n",
              "      <th>Victims</th>\n",
              "    </tr>\n",
              "  </thead>\n",
              "  <tbody>\n",
              "    <tr>\n",
              "      <th>0</th>\n",
              "      <td>January</td>\n",
              "      <td>2003</td>\n",
              "      <td>Andaluca</td>\n",
              "      <td>Almera</td>\n",
              "      <td>Partner</td>\n",
              "      <td>41-50 years</td>\n",
              "      <td>51-64 years</td>\n",
              "      <td>Unknown</td>\n",
              "      <td>Yes</td>\n",
              "      <td>1</td>\n",
              "    </tr>\n",
              "    <tr>\n",
              "      <th>1</th>\n",
              "      <td>January</td>\n",
              "      <td>2003</td>\n",
              "      <td>Andaluca</td>\n",
              "      <td>Granada</td>\n",
              "      <td>Partner</td>\n",
              "      <td>75-84 years</td>\n",
              "      <td>75-84 years</td>\n",
              "      <td>Unknown</td>\n",
              "      <td>Yes</td>\n",
              "      <td>1</td>\n",
              "    </tr>\n",
              "    <tr>\n",
              "      <th>2</th>\n",
              "      <td>January</td>\n",
              "      <td>2003</td>\n",
              "      <td>Andaluca</td>\n",
              "      <td>Mlaga</td>\n",
              "      <td>Partner</td>\n",
              "      <td>21-30 years</td>\n",
              "      <td>Unknown</td>\n",
              "      <td>Unknown</td>\n",
              "      <td>Yes</td>\n",
              "      <td>1</td>\n",
              "    </tr>\n",
              "    <tr>\n",
              "      <th>3</th>\n",
              "      <td>January</td>\n",
              "      <td>2003</td>\n",
              "      <td>Canarias</td>\n",
              "      <td>Santa Cruz de Tenerife</td>\n",
              "      <td>Partner</td>\n",
              "      <td>31-40 years</td>\n",
              "      <td>Unknown</td>\n",
              "      <td>Unknown</td>\n",
              "      <td>Yes</td>\n",
              "      <td>1</td>\n",
              "    </tr>\n",
              "    <tr>\n",
              "      <th>4</th>\n",
              "      <td>January</td>\n",
              "      <td>2003</td>\n",
              "      <td>Catalua</td>\n",
              "      <td>Barcelona</td>\n",
              "      <td>Ex-partner</td>\n",
              "      <td>31-40 years</td>\n",
              "      <td>Unknown</td>\n",
              "      <td>Unknown</td>\n",
              "      <td>No</td>\n",
              "      <td>1</td>\n",
              "    </tr>\n",
              "  </tbody>\n",
              "</table>\n",
              "</div>"
            ],
            "text/plain": [
              "0    Month  Year  ... Living Together Victims\n",
              "0  January  2003  ...             Yes       1\n",
              "1  January  2003  ...             Yes       1\n",
              "2  January  2003  ...             Yes       1\n",
              "3  January  2003  ...             Yes       1\n",
              "4  January  2003  ...              No       1\n",
              "\n",
              "[5 rows x 10 columns]"
            ]
          },
          "metadata": {
            "tags": []
          },
          "execution_count": 6
        }
      ]
    },
    {
      "cell_type": "code",
      "metadata": {
        "colab": {
          "base_uri": "https://localhost:8080/"
        },
        "id": "dxpIDUoM5jMZ",
        "outputId": "2a91c117-acb9-42a5-bb71-06c54002ef32"
      },
      "source": [
        "df_vra.info()"
      ],
      "execution_count": 7,
      "outputs": [
        {
          "output_type": "stream",
          "text": [
            "<class 'pandas.core.frame.DataFrame'>\n",
            "RangeIndex: 900 entries, 0 to 899\n",
            "Data columns (total 10 columns):\n",
            " #   Column                 Non-Null Count  Dtype \n",
            "---  ------                 --------------  ----- \n",
            " 0   Month                  900 non-null    object\n",
            " 1   Year                   900 non-null    object\n",
            " 2   Autonomous Community   900 non-null    object\n",
            " 3   Province               900 non-null    object\n",
            " 4   Relation               900 non-null    object\n",
            " 5   Victim Age             900 non-null    object\n",
            " 6   Agressor Age           900 non-null    object\n",
            " 7   Previous Abuse Report  900 non-null    object\n",
            " 8   Living Together        900 non-null    object\n",
            " 9   Victims                900 non-null    object\n",
            "dtypes: object(10)\n",
            "memory usage: 70.4+ KB\n"
          ],
          "name": "stdout"
        }
      ]
    },
    {
      "cell_type": "markdown",
      "metadata": {
        "id": "3UWKQ-OJyc77"
      },
      "source": [
        "# Features Exploration"
      ]
    },
    {
      "cell_type": "markdown",
      "metadata": {
        "id": "im10vl667f6T"
      },
      "source": [
        "## Features Correlated with Problem\n",
        "* Month\n",
        "* Year\n",
        "* Relation\n",
        "* Victim Age\n",
        "* Agressor Age\n",
        "* Previous Abuse Report\n",
        "* Living Together\n",
        "\n",
        "## Possible Feature Engineering\n",
        "* Incident to Report Interval (Month/Year to Today)"
      ]
    },
    {
      "cell_type": "code",
      "metadata": {
        "colab": {
          "base_uri": "https://localhost:8080/",
          "height": 204
        },
        "id": "ys6qHyXd48TT",
        "outputId": "17e95d8e-03b3-4d49-e516-996c4abf9ff1"
      },
      "source": [
        "df_vra_sort = df_vra.drop(columns=['Month', 'Year', 'Autonomous Community', 'Province', 'Victims'])\n",
        "df_vra_sort.head()"
      ],
      "execution_count": 8,
      "outputs": [
        {
          "output_type": "execute_result",
          "data": {
            "text/html": [
              "<div>\n",
              "<style scoped>\n",
              "    .dataframe tbody tr th:only-of-type {\n",
              "        vertical-align: middle;\n",
              "    }\n",
              "\n",
              "    .dataframe tbody tr th {\n",
              "        vertical-align: top;\n",
              "    }\n",
              "\n",
              "    .dataframe thead th {\n",
              "        text-align: right;\n",
              "    }\n",
              "</style>\n",
              "<table border=\"1\" class=\"dataframe\">\n",
              "  <thead>\n",
              "    <tr style=\"text-align: right;\">\n",
              "      <th></th>\n",
              "      <th>Relation</th>\n",
              "      <th>Victim Age</th>\n",
              "      <th>Agressor Age</th>\n",
              "      <th>Previous Abuse Report</th>\n",
              "      <th>Living Together</th>\n",
              "    </tr>\n",
              "  </thead>\n",
              "  <tbody>\n",
              "    <tr>\n",
              "      <th>0</th>\n",
              "      <td>Partner</td>\n",
              "      <td>41-50 years</td>\n",
              "      <td>51-64 years</td>\n",
              "      <td>Unknown</td>\n",
              "      <td>Yes</td>\n",
              "    </tr>\n",
              "    <tr>\n",
              "      <th>1</th>\n",
              "      <td>Partner</td>\n",
              "      <td>75-84 years</td>\n",
              "      <td>75-84 years</td>\n",
              "      <td>Unknown</td>\n",
              "      <td>Yes</td>\n",
              "    </tr>\n",
              "    <tr>\n",
              "      <th>2</th>\n",
              "      <td>Partner</td>\n",
              "      <td>21-30 years</td>\n",
              "      <td>Unknown</td>\n",
              "      <td>Unknown</td>\n",
              "      <td>Yes</td>\n",
              "    </tr>\n",
              "    <tr>\n",
              "      <th>3</th>\n",
              "      <td>Partner</td>\n",
              "      <td>31-40 years</td>\n",
              "      <td>Unknown</td>\n",
              "      <td>Unknown</td>\n",
              "      <td>Yes</td>\n",
              "    </tr>\n",
              "    <tr>\n",
              "      <th>4</th>\n",
              "      <td>Ex-partner</td>\n",
              "      <td>31-40 years</td>\n",
              "      <td>Unknown</td>\n",
              "      <td>Unknown</td>\n",
              "      <td>No</td>\n",
              "    </tr>\n",
              "  </tbody>\n",
              "</table>\n",
              "</div>"
            ],
            "text/plain": [
              "0    Relation   Victim Age Agressor Age Previous Abuse Report Living Together\n",
              "0     Partner  41-50 years  51-64 years               Unknown             Yes\n",
              "1     Partner  75-84 years  75-84 years               Unknown             Yes\n",
              "2     Partner  21-30 years      Unknown               Unknown             Yes\n",
              "3     Partner  31-40 years      Unknown               Unknown             Yes\n",
              "4  Ex-partner  31-40 years      Unknown               Unknown              No"
            ]
          },
          "metadata": {
            "tags": []
          },
          "execution_count": 8
        }
      ]
    },
    {
      "cell_type": "code",
      "metadata": {
        "colab": {
          "base_uri": "https://localhost:8080/"
        },
        "id": "g29H9HS55Awh",
        "outputId": "bd2138d4-adb2-4f7b-fb53-0be98136fcc4"
      },
      "source": [
        "for x in df_vra_sort.columns:\n",
        "  print('{} Values'.format(x))\n",
        "  print(df_vra_sort[x].value_counts().index.tolist())\n",
        "  print('---------------------------------')"
      ],
      "execution_count": 9,
      "outputs": [
        {
          "output_type": "stream",
          "text": [
            "Relation Values\n",
            "['Partner', 'Ex-partner', 'In separation process']\n",
            "---------------------------------\n",
            "Victim Age Values\n",
            "['31-40 years', '41-50 years', '21-30 years', '51-64 years', '65-74 years', '75-84 years', '18-20 years', 'Unknown', '<16 years', '>85 years', '16-17 years']\n",
            "---------------------------------\n",
            "Agressor Age Values\n",
            "['31-40 years', '41-50 years', '51-64 years', '21-30 years', 'Unknown', '65-74 years', '75-84 years', '>85 years', '18-20 years', '16-17 years']\n",
            "---------------------------------\n",
            "Previous Abuse Report Values\n",
            "['No', 'Unknown', 'Yes', 'Ex-officio']\n",
            "---------------------------------\n",
            "Living Together Values\n",
            "['Yes', 'No', 'Unknown']\n",
            "---------------------------------\n"
          ],
          "name": "stdout"
        }
      ]
    },
    {
      "cell_type": "markdown",
      "metadata": {
        "id": "PP2-oyWlD8VE"
      },
      "source": [
        "## Change Values for Scope Adjusment"
      ]
    },
    {
      "cell_type": "code",
      "metadata": {
        "id": "RFNlOaGsByU2"
      },
      "source": [
        "relation = {\n",
        "    'Partner' : 'Family',\n",
        "    'Ex-partner' : 'Stranger',\n",
        "    'In separation process' : 'Acquaintance'\n",
        "}\n",
        "\n",
        "par = {\n",
        "    'Ex-officio' : 'Yes'\n",
        "}"
      ],
      "execution_count": 10,
      "outputs": []
    },
    {
      "cell_type": "code",
      "metadata": {
        "id": "zIehWDkPD2Zx"
      },
      "source": [
        "df_vra_sort['Relation'] = df_vra_sort['Relation'].replace(relation)\n",
        "df_vra_sort['Previous Abuse Report'] = df_vra_sort['Previous Abuse Report'].replace(par)"
      ],
      "execution_count": 11,
      "outputs": []
    },
    {
      "cell_type": "code",
      "metadata": {
        "colab": {
          "base_uri": "https://localhost:8080/"
        },
        "id": "7pSlTbXpEdtK",
        "outputId": "6fb9bbb3-66e7-46a9-a393-6cf4566884c8"
      },
      "source": [
        "for x in df_vra_sort.columns:\n",
        "  print('{} Values'.format(x))\n",
        "  print(df_vra_sort[x].value_counts().index.tolist())\n",
        "  print('---------------------------------')"
      ],
      "execution_count": 12,
      "outputs": [
        {
          "output_type": "stream",
          "text": [
            "Relation Values\n",
            "['Family', 'Stranger', 'Acquaintance']\n",
            "---------------------------------\n",
            "Victim Age Values\n",
            "['31-40 years', '41-50 years', '21-30 years', '51-64 years', '65-74 years', '75-84 years', '18-20 years', 'Unknown', '<16 years', '>85 years', '16-17 years']\n",
            "---------------------------------\n",
            "Agressor Age Values\n",
            "['31-40 years', '41-50 years', '51-64 years', '21-30 years', 'Unknown', '65-74 years', '75-84 years', '>85 years', '18-20 years', '16-17 years']\n",
            "---------------------------------\n",
            "Previous Abuse Report Values\n",
            "['No', 'Unknown', 'Yes']\n",
            "---------------------------------\n",
            "Living Together Values\n",
            "['Yes', 'No', 'Unknown']\n",
            "---------------------------------\n"
          ],
          "name": "stdout"
        }
      ]
    },
    {
      "cell_type": "code",
      "metadata": {
        "id": "YrZdHSPe5lEV"
      },
      "source": [
        "# Relation Values\n",
        "relation_enc = {\n",
        "    'Family':0, \n",
        "    'Stranger':1, \n",
        "    'Acquaintance':2\n",
        "}\n",
        "\n",
        "# Victim Age Values\n",
        "vic_enc = {\n",
        "    '<16 years':0, \n",
        "    '16-17 years':1, \n",
        "    '18-20 years':2, \n",
        "    '21-30 years':3, \n",
        "    '31-40 years':4, \n",
        "    '41-50 years':5, \n",
        "    '51-64 years':5, \n",
        "    '65-74 years':6, \n",
        "    '75-84 years':7, \n",
        "    '>85 years':8,\n",
        "    'Unknown':9\n",
        "}\n",
        "\n",
        "# Agressor Age Values\n",
        "agr_enc = {\n",
        "    '<16 years':0, \n",
        "    '16-17 years':1, \n",
        "    '18-20 years':2, \n",
        "    '21-30 years':3, \n",
        "    '31-40 years':4, \n",
        "    '41-50 years':5, \n",
        "    '51-64 years':5, \n",
        "    '65-74 years':6, \n",
        "    '75-84 years':7, \n",
        "    '>85 years':8,\n",
        "    'Unknown':9\n",
        "}\n",
        "\n",
        "# Previous Abuse Report Values\n",
        "par_enc = {\n",
        "    'Yes':0, \n",
        "    'No':1, \n",
        "    'Unknown':2\n",
        "}\n",
        "\n",
        "# Living Together Values\n",
        "lt_enc = {\n",
        "    'Yes':0, \n",
        "    'No':1, \n",
        "    'Unknown':2\n",
        "}"
      ],
      "execution_count": 13,
      "outputs": []
    },
    {
      "cell_type": "markdown",
      "metadata": {
        "id": "AReojSMpNBtt"
      },
      "source": [
        "## Master Data Cleaned (Run This To Try Other Num of Cluster)"
      ]
    },
    {
      "cell_type": "code",
      "metadata": {
        "id": "WWhqEcoUmQqk"
      },
      "source": [
        "vra_dataset = df_vra_sort.copy()"
      ],
      "execution_count": 14,
      "outputs": []
    },
    {
      "cell_type": "code",
      "metadata": {
        "colab": {
          "base_uri": "https://localhost:8080/",
          "height": 204
        },
        "id": "EG22cEYy7ogB",
        "outputId": "d5b7217f-159d-495d-eb6e-e02d4a9e202a"
      },
      "source": [
        "vra_dataset_encoded = df_vra_sort.copy()\n",
        "enc_dict = [relation_enc, vic_enc, agr_enc, par_enc, lt_enc]\n",
        "var = vra_dataset_encoded.columns.tolist()\n",
        "for i in range(5):\n",
        "  vra_dataset_encoded[var[i]] = vra_dataset_encoded[var[i]].replace(enc_dict[i])\n",
        "vra_dataset_encoded.head()"
      ],
      "execution_count": 16,
      "outputs": [
        {
          "output_type": "execute_result",
          "data": {
            "text/html": [
              "<div>\n",
              "<style scoped>\n",
              "    .dataframe tbody tr th:only-of-type {\n",
              "        vertical-align: middle;\n",
              "    }\n",
              "\n",
              "    .dataframe tbody tr th {\n",
              "        vertical-align: top;\n",
              "    }\n",
              "\n",
              "    .dataframe thead th {\n",
              "        text-align: right;\n",
              "    }\n",
              "</style>\n",
              "<table border=\"1\" class=\"dataframe\">\n",
              "  <thead>\n",
              "    <tr style=\"text-align: right;\">\n",
              "      <th></th>\n",
              "      <th>Relation</th>\n",
              "      <th>Victim Age</th>\n",
              "      <th>Agressor Age</th>\n",
              "      <th>Previous Abuse Report</th>\n",
              "      <th>Living Together</th>\n",
              "    </tr>\n",
              "  </thead>\n",
              "  <tbody>\n",
              "    <tr>\n",
              "      <th>0</th>\n",
              "      <td>0</td>\n",
              "      <td>5</td>\n",
              "      <td>5</td>\n",
              "      <td>2</td>\n",
              "      <td>0</td>\n",
              "    </tr>\n",
              "    <tr>\n",
              "      <th>1</th>\n",
              "      <td>0</td>\n",
              "      <td>7</td>\n",
              "      <td>7</td>\n",
              "      <td>2</td>\n",
              "      <td>0</td>\n",
              "    </tr>\n",
              "    <tr>\n",
              "      <th>2</th>\n",
              "      <td>0</td>\n",
              "      <td>3</td>\n",
              "      <td>9</td>\n",
              "      <td>2</td>\n",
              "      <td>0</td>\n",
              "    </tr>\n",
              "    <tr>\n",
              "      <th>3</th>\n",
              "      <td>0</td>\n",
              "      <td>4</td>\n",
              "      <td>9</td>\n",
              "      <td>2</td>\n",
              "      <td>0</td>\n",
              "    </tr>\n",
              "    <tr>\n",
              "      <th>4</th>\n",
              "      <td>1</td>\n",
              "      <td>4</td>\n",
              "      <td>9</td>\n",
              "      <td>2</td>\n",
              "      <td>1</td>\n",
              "    </tr>\n",
              "  </tbody>\n",
              "</table>\n",
              "</div>"
            ],
            "text/plain": [
              "0  Relation  Victim Age  Agressor Age  Previous Abuse Report  Living Together\n",
              "0         0           5             5                      2                0\n",
              "1         0           7             7                      2                0\n",
              "2         0           3             9                      2                0\n",
              "3         0           4             9                      2                0\n",
              "4         1           4             9                      2                1"
            ]
          },
          "metadata": {
            "tags": []
          },
          "execution_count": 16
        }
      ]
    },
    {
      "cell_type": "markdown",
      "metadata": {
        "id": "OjA8TnbaHKNS"
      },
      "source": [
        "# Clustering"
      ]
    },
    {
      "cell_type": "code",
      "metadata": {
        "id": "iWgmFX7vJ1DE"
      },
      "source": [
        "from sklearn.cluster import KMeans\n",
        "from sklearn.preprocessing import StandardScaler"
      ],
      "execution_count": 17,
      "outputs": []
    },
    {
      "cell_type": "code",
      "metadata": {
        "colab": {
          "base_uri": "https://localhost:8080/",
          "height": 419
        },
        "id": "RLUch5aiaYYr",
        "outputId": "d43078c3-1b3b-49ce-fd41-6b2f57ebe552"
      },
      "source": [
        "scaler = StandardScaler()\n",
        "vra_dataset_encoded_scaled = pd.DataFrame(scaler.fit_transform(vra_dataset_encoded))\n",
        "vra_dataset_encoded_scaled.columns = df_vra_sort.columns\n",
        "vra_dataset_encoded_scaled"
      ],
      "execution_count": 18,
      "outputs": [
        {
          "output_type": "execute_result",
          "data": {
            "text/html": [
              "<div>\n",
              "<style scoped>\n",
              "    .dataframe tbody tr th:only-of-type {\n",
              "        vertical-align: middle;\n",
              "    }\n",
              "\n",
              "    .dataframe tbody tr th {\n",
              "        vertical-align: top;\n",
              "    }\n",
              "\n",
              "    .dataframe thead th {\n",
              "        text-align: right;\n",
              "    }\n",
              "</style>\n",
              "<table border=\"1\" class=\"dataframe\">\n",
              "  <thead>\n",
              "    <tr style=\"text-align: right;\">\n",
              "      <th></th>\n",
              "      <th>Relation</th>\n",
              "      <th>Victim Age</th>\n",
              "      <th>Agressor Age</th>\n",
              "      <th>Previous Abuse Report</th>\n",
              "      <th>Living Together</th>\n",
              "    </tr>\n",
              "  </thead>\n",
              "  <tbody>\n",
              "    <tr>\n",
              "      <th>0</th>\n",
              "      <td>-0.559453</td>\n",
              "      <td>0.423375</td>\n",
              "      <td>-0.020174</td>\n",
              "      <td>1.503631</td>\n",
              "      <td>-0.735615</td>\n",
              "    </tr>\n",
              "    <tr>\n",
              "      <th>1</th>\n",
              "      <td>-0.559453</td>\n",
              "      <td>1.891729</td>\n",
              "      <td>1.190281</td>\n",
              "      <td>1.503631</td>\n",
              "      <td>-0.735615</td>\n",
              "    </tr>\n",
              "    <tr>\n",
              "      <th>2</th>\n",
              "      <td>-0.559453</td>\n",
              "      <td>-1.044978</td>\n",
              "      <td>2.400736</td>\n",
              "      <td>1.503631</td>\n",
              "      <td>-0.735615</td>\n",
              "    </tr>\n",
              "    <tr>\n",
              "      <th>3</th>\n",
              "      <td>-0.559453</td>\n",
              "      <td>-0.310802</td>\n",
              "      <td>2.400736</td>\n",
              "      <td>1.503631</td>\n",
              "      <td>-0.735615</td>\n",
              "    </tr>\n",
              "    <tr>\n",
              "      <th>4</th>\n",
              "      <td>1.438594</td>\n",
              "      <td>-0.310802</td>\n",
              "      <td>2.400736</td>\n",
              "      <td>1.503631</td>\n",
              "      <td>1.346314</td>\n",
              "    </tr>\n",
              "    <tr>\n",
              "      <th>...</th>\n",
              "      <td>...</td>\n",
              "      <td>...</td>\n",
              "      <td>...</td>\n",
              "      <td>...</td>\n",
              "      <td>...</td>\n",
              "    </tr>\n",
              "    <tr>\n",
              "      <th>895</th>\n",
              "      <td>-0.559453</td>\n",
              "      <td>-0.310802</td>\n",
              "      <td>-0.020174</td>\n",
              "      <td>-0.023759</td>\n",
              "      <td>1.346314</td>\n",
              "    </tr>\n",
              "    <tr>\n",
              "      <th>896</th>\n",
              "      <td>-0.559453</td>\n",
              "      <td>0.423375</td>\n",
              "      <td>-0.020174</td>\n",
              "      <td>-0.023759</td>\n",
              "      <td>-0.735615</td>\n",
              "    </tr>\n",
              "    <tr>\n",
              "      <th>897</th>\n",
              "      <td>1.438594</td>\n",
              "      <td>-0.310802</td>\n",
              "      <td>-0.020174</td>\n",
              "      <td>-1.551150</td>\n",
              "      <td>1.346314</td>\n",
              "    </tr>\n",
              "    <tr>\n",
              "      <th>898</th>\n",
              "      <td>3.436641</td>\n",
              "      <td>-1.044978</td>\n",
              "      <td>-0.020174</td>\n",
              "      <td>-0.023759</td>\n",
              "      <td>1.346314</td>\n",
              "    </tr>\n",
              "    <tr>\n",
              "      <th>899</th>\n",
              "      <td>-0.559453</td>\n",
              "      <td>1.157552</td>\n",
              "      <td>0.585053</td>\n",
              "      <td>-0.023759</td>\n",
              "      <td>-0.735615</td>\n",
              "    </tr>\n",
              "  </tbody>\n",
              "</table>\n",
              "<p>900 rows × 5 columns</p>\n",
              "</div>"
            ],
            "text/plain": [
              "0    Relation  Victim Age  Agressor Age  Previous Abuse Report  Living Together\n",
              "0   -0.559453    0.423375     -0.020174               1.503631        -0.735615\n",
              "1   -0.559453    1.891729      1.190281               1.503631        -0.735615\n",
              "2   -0.559453   -1.044978      2.400736               1.503631        -0.735615\n",
              "3   -0.559453   -0.310802      2.400736               1.503631        -0.735615\n",
              "4    1.438594   -0.310802      2.400736               1.503631         1.346314\n",
              "..        ...         ...           ...                    ...              ...\n",
              "895 -0.559453   -0.310802     -0.020174              -0.023759         1.346314\n",
              "896 -0.559453    0.423375     -0.020174              -0.023759        -0.735615\n",
              "897  1.438594   -0.310802     -0.020174              -1.551150         1.346314\n",
              "898  3.436641   -1.044978     -0.020174              -0.023759         1.346314\n",
              "899 -0.559453    1.157552      0.585053              -0.023759        -0.735615\n",
              "\n",
              "[900 rows x 5 columns]"
            ]
          },
          "metadata": {
            "tags": []
          },
          "execution_count": 18
        }
      ]
    },
    {
      "cell_type": "markdown",
      "metadata": {
        "id": "3SGsAsSmZJ1M"
      },
      "source": [
        "## Cluster based on Elbow - 3 Cluster"
      ]
    },
    {
      "cell_type": "code",
      "metadata": {
        "id": "NxMtTDemNaRc"
      },
      "source": [
        "vra_dataset_3c = df_vra_sort.copy()\n",
        "vra_dataset_encoded_3c = vra_dataset_encoded.copy()"
      ],
      "execution_count": 19,
      "outputs": []
    },
    {
      "cell_type": "code",
      "metadata": {
        "colab": {
          "base_uri": "https://localhost:8080/",
          "height": 508
        },
        "id": "h9jEbgOHZJEU",
        "outputId": "226bcce9-0d9b-4bfb-9977-64c30c7bf080"
      },
      "source": [
        "distortions = []\n",
        "K = range(2,10)\n",
        "for k in K:\n",
        "    kmeanModel = KMeans(n_clusters=k)\n",
        "    kmeanModel.fit(vra_dataset_encoded_3c)\n",
        "    distortions.append(kmeanModel.inertia_)\n",
        "\n",
        "plt.figure(figsize=(16,8))\n",
        "plt.plot(K, distortions, 'bx-')\n",
        "plt.xlabel('k')\n",
        "plt.ylabel('Distortion')\n",
        "plt.title('The Elbow Method showing the optimal k')\n",
        "plt.grid()\n",
        "plt.show()"
      ],
      "execution_count": 20,
      "outputs": [
        {
          "output_type": "display_data",
          "data": {
            "image/png": "[encoded data removed]",
            "text/plain": [
              "<Figure size 1152x576 with 1 Axes>"
            ]
          },
          "metadata": {
            "tags": [],
            "needs_background": "light"
          }
        }
      ]
    },
    {
      "cell_type": "markdown",
      "metadata": {
        "id": "pM74KPCei7tt"
      },
      "source": [
        "Best K = 3 "
      ]
    },
    {
      "cell_type": "code",
      "metadata": {
        "colab": {
          "base_uri": "https://localhost:8080/"
        },
        "id": "a1FEB-1gi-xD",
        "outputId": "f39c4930-fe52-4876-d2d6-9311f2e99c3a"
      },
      "source": [
        "kmeans = KMeans(n_clusters=3, random_state=0)\n",
        "kmeans.fit(vra_dataset_encoded_3c)"
      ],
      "execution_count": 21,
      "outputs": [
        {
          "output_type": "execute_result",
          "data": {
            "text/plain": [
              "KMeans(algorithm='auto', copy_x=True, init='k-means++', max_iter=300,\n",
              "       n_clusters=3, n_init=10, n_jobs=None, precompute_distances='auto',\n",
              "       random_state=0, tol=0.0001, verbose=0)"
            ]
          },
          "metadata": {
            "tags": []
          },
          "execution_count": 21
        }
      ]
    },
    {
      "cell_type": "code",
      "metadata": {
        "colab": {
          "base_uri": "https://localhost:8080/"
        },
        "id": "9OR2IYNMjhJ8",
        "outputId": "851ccce1-7909-40ed-9a3b-b7052370814a"
      },
      "source": [
        "vra_cluster_3c = kmeans.predict(vra_dataset_encoded_3c)\n",
        "print(vra_cluster_3c)"
      ],
      "execution_count": 22,
      "outputs": [
        {
          "output_type": "stream",
          "text": [
            "[0 2 2 2 2 0 0 1 0 2 0 1 0 2 2 0 0 2 1 2 2 1 0 2 2 2 2 2 2 2 2 2 0 0 1 2 1\n",
            " 2 1 2 2 0 2 2 2 0 2 1 2 2 2 2 0 2 0 2 1 1 2 2 0 2 0 2 0 2 0 0 0 1 0 0 2 1\n",
            " 2 1 1 1 1 1 2 1 0 1 2 1 2 0 0 2 1 1 0 2 2 2 1 0 2 0 1 0 2 0 0 1 2 0 2 1 1\n",
            " 2 1 0 0 2 1 2 1 1 2 1 2 1 2 1 0 1 1 0 0 1 2 2 0 0 2 2 2 2 2 2 0 1 2 1 0 2\n",
            " 2 1 2 1 2 1 1 0 2 1 1 2 2 1 2 0 2 1 0 2 0 2 1 1 0 2 1 1 1 0 0 0 2 1 2 2 0\n",
            " 1 1 0 0 1 0 2 0 2 2 0 0 2 1 0 0 0 2 0 1 1 1 1 1 1 1 0 1 1 2 0 1 1 1 1 0 0\n",
            " 1 2 2 1 0 0 1 1 0 1 2 0 0 1 0 2 0 2 1 1 0 1 0 1 1 1 1 1 1 0 1 0 2 0 1 1 1\n",
            " 2 1 0 2 1 0 2 1 1 0 1 0 0 0 0 1 0 0 1 2 1 0 1 1 0 1 0 2 0 1 1 1 1 0 2 1 0\n",
            " 1 1 1 0 0 0 1 0 0 0 0 0 0 1 0 0 0 1 1 0 0 0 0 1 0 1 1 0 0 1 0 1 1 1 0 0 1\n",
            " 2 1 0 0 1 1 0 0 1 0 1 0 0 1 0 0 0 0 0 0 1 0 0 0 1 0 1 1 1 1 1 2 0 1 2 0 1\n",
            " 1 1 0 1 0 0 0 1 1 1 0 1 0 2 0 1 1 0 1 0 1 0 1 1 0 1 1 0 1 1 0 1 0 0 2 1 1\n",
            " 2 1 1 0 0 1 0 0 1 0 1 1 1 1 0 1 0 0 0 2 0 0 1 0 1 0 1 1 1 1 0 1 0 1 2 0 0\n",
            " 1 0 0 1 0 1 0 2 1 1 0 1 1 1 0 1 0 1 0 1 0 0 1 0 1 1 2 1 0 0 1 1 0 0 1 0 0\n",
            " 0 1 0 1 0 2 1 0 0 0 1 0 1 1 0 1 1 0 0 1 0 0 0 0 0 0 0 1 1 0 0 2 1 0 0 0 0\n",
            " 1 1 0 1 1 0 0 0 2 0 1 0 0 0 1 2 1 0 1 2 1 1 0 1 0 0 1 1 0 2 0 0 0 0 0 0 0\n",
            " 1 0 0 0 0 0 1 1 1 1 1 1 0 2 1 0 0 0 2 1 1 1 1 1 0 0 0 0 2 1 0 0 0 0 0 0 0\n",
            " 1 1 0 2 0 1 0 0 0 1 0 1 0 1 0 1 0 0 1 1 0 2 0 0 2 1 1 0 1 2 2 0 1 2 1 0 0\n",
            " 0 1 1 1 0 1 0 0 0 1 0 1 1 1 0 0 1 1 1 2 2 0 0 1 1 0 0 2 0 1 0 1 0 1 0 0 1\n",
            " 0 1 1 0 0 0 1 0 2 0 0 1 0 2 0 0 1 1 1 1 1 2 1 1 2 2 1 1 0 1 0 0 0 0 1 1 1\n",
            " 0 0 0 0 0 1 0 1 0 0 1 0 0 0 0 1 0 2 1 0 0 2 0 1 1 0 0 1 0 0 2 0 0 1 1 0 0\n",
            " 0 1 0 2 0 1 0 0 1 2 0 0 0 0 1 0 0 1 0 1 0 0 1 0 0 1 0 0 0 0 0 1 1 0 1 1 0\n",
            " 0 2 0 0 0 0 1 0 0 0 0 1 1 0 0 1 1 0 0 1 0 0 1 0 0 1 0 1 0 0 1 1 0 1 0 0 0\n",
            " 0 1 0 1 0 1 1 0 0 2 1 0 0 1 0 0 2 1 0 0 2 1 0 1 0 0 0 0 0 0 1 0 0 1 0 0 0\n",
            " 1 1 0 1 1 0 1 1 0 2 0 0 0 1 0 0 1 1 1 0 0 1 1 0 0 1 0 2 0 2 0 0 2 1 0 1 1\n",
            " 1 0 0 0 0 0 1 0 0 0 1 0]\n"
          ],
          "name": "stdout"
        }
      ]
    },
    {
      "cell_type": "markdown",
      "metadata": {
        "id": "WPpJ_0w5jz1B"
      },
      "source": [
        "### Join Cluster to Dataset"
      ]
    },
    {
      "cell_type": "code",
      "metadata": {
        "colab": {
          "base_uri": "https://localhost:8080/",
          "height": 204
        },
        "id": "RhjAPzQwjwxO",
        "outputId": "3f1599d5-7be0-4905-9f4e-bcf5e58be11e"
      },
      "source": [
        "vra_dataset_3c['cluster'] = vra_cluster_3c\n",
        "vra_dataset_3c.head()"
      ],
      "execution_count": 23,
      "outputs": [
        {
          "output_type": "execute_result",
          "data": {
            "text/html": [
              "<div>\n",
              "<style scoped>\n",
              "    .dataframe tbody tr th:only-of-type {\n",
              "        vertical-align: middle;\n",
              "    }\n",
              "\n",
              "    .dataframe tbody tr th {\n",
              "        vertical-align: top;\n",
              "    }\n",
              "\n",
              "    .dataframe thead th {\n",
              "        text-align: right;\n",
              "    }\n",
              "</style>\n",
              "<table border=\"1\" class=\"dataframe\">\n",
              "  <thead>\n",
              "    <tr style=\"text-align: right;\">\n",
              "      <th></th>\n",
              "      <th>Relation</th>\n",
              "      <th>Victim Age</th>\n",
              "      <th>Agressor Age</th>\n",
              "      <th>Previous Abuse Report</th>\n",
              "      <th>Living Together</th>\n",
              "      <th>cluster</th>\n",
              "    </tr>\n",
              "  </thead>\n",
              "  <tbody>\n",
              "    <tr>\n",
              "      <th>0</th>\n",
              "      <td>Family</td>\n",
              "      <td>41-50 years</td>\n",
              "      <td>51-64 years</td>\n",
              "      <td>Unknown</td>\n",
              "      <td>Yes</td>\n",
              "      <td>0</td>\n",
              "    </tr>\n",
              "    <tr>\n",
              "      <th>1</th>\n",
              "      <td>Family</td>\n",
              "      <td>75-84 years</td>\n",
              "      <td>75-84 years</td>\n",
              "      <td>Unknown</td>\n",
              "      <td>Yes</td>\n",
              "      <td>2</td>\n",
              "    </tr>\n",
              "    <tr>\n",
              "      <th>2</th>\n",
              "      <td>Family</td>\n",
              "      <td>21-30 years</td>\n",
              "      <td>Unknown</td>\n",
              "      <td>Unknown</td>\n",
              "      <td>Yes</td>\n",
              "      <td>2</td>\n",
              "    </tr>\n",
              "    <tr>\n",
              "      <th>3</th>\n",
              "      <td>Family</td>\n",
              "      <td>31-40 years</td>\n",
              "      <td>Unknown</td>\n",
              "      <td>Unknown</td>\n",
              "      <td>Yes</td>\n",
              "      <td>2</td>\n",
              "    </tr>\n",
              "    <tr>\n",
              "      <th>4</th>\n",
              "      <td>Stranger</td>\n",
              "      <td>31-40 years</td>\n",
              "      <td>Unknown</td>\n",
              "      <td>Unknown</td>\n",
              "      <td>No</td>\n",
              "      <td>2</td>\n",
              "    </tr>\n",
              "  </tbody>\n",
              "</table>\n",
              "</div>"
            ],
            "text/plain": [
              "0  Relation   Victim Age  ... Living Together cluster\n",
              "0    Family  41-50 years  ...             Yes       0\n",
              "1    Family  75-84 years  ...             Yes       2\n",
              "2    Family  21-30 years  ...             Yes       2\n",
              "3    Family  31-40 years  ...             Yes       2\n",
              "4  Stranger  31-40 years  ...              No       2\n",
              "\n",
              "[5 rows x 6 columns]"
            ]
          },
          "metadata": {
            "tags": []
          },
          "execution_count": 23
        }
      ]
    },
    {
      "cell_type": "code",
      "metadata": {
        "id": "_JKrv5CxI_pf"
      },
      "source": [
        "vra_dataset_3c.to_csv('/content/drive/MyDrive/Bangkit Academy/Final Project - Capstone/03 Dataset/violence_risk_assessment_dataset', index=False)"
      ],
      "execution_count": 30,
      "outputs": []
    },
    {
      "cell_type": "code",
      "metadata": {
        "colab": {
          "base_uri": "https://localhost:8080/",
          "height": 204
        },
        "id": "tJiQd3vq9tgU",
        "outputId": "9f8b8f7d-6642-49c4-f756-9648dc5ea021"
      },
      "source": [
        "vra_dataset_encoded_3c['cluster'] = vra_cluster_3c\n",
        "vra_dataset_encoded_3c.head()"
      ],
      "execution_count": 24,
      "outputs": [
        {
          "output_type": "execute_result",
          "data": {
            "text/html": [
              "<div>\n",
              "<style scoped>\n",
              "    .dataframe tbody tr th:only-of-type {\n",
              "        vertical-align: middle;\n",
              "    }\n",
              "\n",
              "    .dataframe tbody tr th {\n",
              "        vertical-align: top;\n",
              "    }\n",
              "\n",
              "    .dataframe thead th {\n",
              "        text-align: right;\n",
              "    }\n",
              "</style>\n",
              "<table border=\"1\" class=\"dataframe\">\n",
              "  <thead>\n",
              "    <tr style=\"text-align: right;\">\n",
              "      <th></th>\n",
              "      <th>Relation</th>\n",
              "      <th>Victim Age</th>\n",
              "      <th>Agressor Age</th>\n",
              "      <th>Previous Abuse Report</th>\n",
              "      <th>Living Together</th>\n",
              "      <th>cluster</th>\n",
              "    </tr>\n",
              "  </thead>\n",
              "  <tbody>\n",
              "    <tr>\n",
              "      <th>0</th>\n",
              "      <td>0</td>\n",
              "      <td>5</td>\n",
              "      <td>5</td>\n",
              "      <td>2</td>\n",
              "      <td>0</td>\n",
              "      <td>0</td>\n",
              "    </tr>\n",
              "    <tr>\n",
              "      <th>1</th>\n",
              "      <td>0</td>\n",
              "      <td>7</td>\n",
              "      <td>7</td>\n",
              "      <td>2</td>\n",
              "      <td>0</td>\n",
              "      <td>2</td>\n",
              "    </tr>\n",
              "    <tr>\n",
              "      <th>2</th>\n",
              "      <td>0</td>\n",
              "      <td>3</td>\n",
              "      <td>9</td>\n",
              "      <td>2</td>\n",
              "      <td>0</td>\n",
              "      <td>2</td>\n",
              "    </tr>\n",
              "    <tr>\n",
              "      <th>3</th>\n",
              "      <td>0</td>\n",
              "      <td>4</td>\n",
              "      <td>9</td>\n",
              "      <td>2</td>\n",
              "      <td>0</td>\n",
              "      <td>2</td>\n",
              "    </tr>\n",
              "    <tr>\n",
              "      <th>4</th>\n",
              "      <td>1</td>\n",
              "      <td>4</td>\n",
              "      <td>9</td>\n",
              "      <td>2</td>\n",
              "      <td>1</td>\n",
              "      <td>2</td>\n",
              "    </tr>\n",
              "  </tbody>\n",
              "</table>\n",
              "</div>"
            ],
            "text/plain": [
              "0  Relation  Victim Age  ...  Living Together  cluster\n",
              "0         0           5  ...                0        0\n",
              "1         0           7  ...                0        2\n",
              "2         0           3  ...                0        2\n",
              "3         0           4  ...                0        2\n",
              "4         1           4  ...                1        2\n",
              "\n",
              "[5 rows x 6 columns]"
            ]
          },
          "metadata": {
            "tags": []
          },
          "execution_count": 24
        }
      ]
    },
    {
      "cell_type": "markdown",
      "metadata": {
        "id": "TOL6tyD8kr67"
      },
      "source": [
        "### Cluster Distribution"
      ]
    },
    {
      "cell_type": "code",
      "metadata": {
        "colab": {
          "base_uri": "https://localhost:8080/"
        },
        "id": "qhLoKVsAkGvX",
        "outputId": "95e2892f-a543-4e81-b8c7-de34bbbf6814"
      },
      "source": [
        "print('Cluster Distribution')\n",
        "vra_dataset_3c['cluster'].value_counts()"
      ],
      "execution_count": 25,
      "outputs": [
        {
          "output_type": "stream",
          "text": [
            "Cluster Distribution\n"
          ],
          "name": "stdout"
        },
        {
          "output_type": "execute_result",
          "data": {
            "text/plain": [
              "0    414\n",
              "1    341\n",
              "2    145\n",
              "Name: cluster, dtype: int64"
            ]
          },
          "metadata": {
            "tags": []
          },
          "execution_count": 25
        }
      ]
    },
    {
      "cell_type": "markdown",
      "metadata": {
        "id": "1O4JvSLmmyol"
      },
      "source": [
        "### Analyzing Cluster"
      ]
    },
    {
      "cell_type": "code",
      "metadata": {
        "id": "4Lb9SLAkm1aw"
      },
      "source": [
        "cls0 = vra_dataset_encoded_3c[vra_dataset_encoded_3c['cluster'] == 0].reset_index(drop=True)\n",
        "cls1 = vra_dataset_encoded_3c[vra_dataset_encoded_3c['cluster'] == 1].reset_index(drop=True)\n",
        "cls2 = vra_dataset_encoded_3c[vra_dataset_encoded_3c['cluster'] == 2].reset_index(drop=True)"
      ],
      "execution_count": 26,
      "outputs": []
    },
    {
      "cell_type": "code",
      "metadata": {
        "colab": {
          "base_uri": "https://localhost:8080/",
          "height": 766
        },
        "id": "hN4JaIA8nJ5t",
        "outputId": "d462e2cf-0ff0-438e-88a5-19ac1d57b0c5"
      },
      "source": [
        "cluster_data = [cls0, cls1, cls2]\n",
        "var = vra_dataset_encoded_3c.columns[:-1]\n",
        "var_iter = 0\n",
        "\n",
        "fig, ax = plt.subplots(5, 3, figsize=(25,20), sharey=True)\n",
        "fig.tight_layout(pad=7) \n",
        "for row in range(5):\n",
        "  for col in range(3):\n",
        "    ax[row][col].plot(cluster_data[col][var[var_iter]].value_counts().sort_index())\n",
        "    ax[row][col].title.set_text('Cluster {} - {}'.format(col, var[var_iter]))\n",
        "  var_iter+=1\n",
        "plt.show()"
      ],
      "execution_count": 27,
      "outputs": [
        {
          "output_type": "display_data",
          "data": {
            "image/png": "[encoded data removed]",
            "text/plain": [
              "<Figure size 1800x1440 with 15 Axes>"
            ]
          },
          "metadata": {
            "tags": [],
            "needs_background": "light"
          }
        }
      ]
    },
    {
      "cell_type": "markdown",
      "metadata": {
        "id": "DTwAWXypE-2u"
      },
      "source": [
        "#### Victim vs Agressor"
      ]
    },
    {
      "cell_type": "code",
      "metadata": {
        "colab": {
          "base_uri": "https://localhost:8080/",
          "height": 281
        },
        "id": "4Y52x2BPC9TQ",
        "outputId": "0cd56751-4490-42e2-bc9a-ac78ebfb3acd"
      },
      "source": [
        "cluster_data = [cls0, cls1, cls2]\n",
        "\n",
        "fig, ax = plt.subplots(ncols=3, figsize=(12,5), sharex=True, sharey=True)\n",
        "fig.tight_layout(pad=6.0)\n",
        "for col in range(3):\n",
        "  sns.scatterplot(\n",
        "      x=cluster_data[col]['Victim Age'], \n",
        "      y=cluster_data[col]['Agressor Age'], \n",
        "      ax=ax[col]\n",
        "  )"
      ],
      "execution_count": 28,
      "outputs": [
        {
          "output_type": "display_data",
          "data": {
            "image/png": "[encoded data removed]",
            "text/plain": [
              "<Figure size 864x360 with 3 Axes>"
            ]
          },
          "metadata": {
            "tags": [],
            "needs_background": "light"
          }
        }
      ]
    },
    {
      "cell_type": "markdown",
      "metadata": {
        "id": "v4Qc9Mt8I4sU"
      },
      "source": [
        "#### Victim lives together with Agressor?"
      ]
    },
    {
      "cell_type": "code",
      "metadata": {
        "colab": {
          "base_uri": "https://localhost:8080/",
          "height": 281
        },
        "id": "STzaR6CKI4QR",
        "outputId": "f89c5492-d9e6-49e5-b82a-c1cffc9b0198"
      },
      "source": [
        "cluster_data = [cls0, cls1, cls2]\n",
        "\n",
        "fig, ax = plt.subplots(ncols=3, figsize=(12,5), sharex=True, sharey=True)\n",
        "fig.tight_layout(pad=6.0)\n",
        "for col in range(3):\n",
        "  sns.scatterplot(\n",
        "      x=cluster_data[col]['Victim Age'], \n",
        "      y=cluster_data[col]['Living Together'], \n",
        "      hue=cluster_data[col]['Agressor Age'], \n",
        "      ax=ax[col]\n",
        "  )\n",
        "plt.show()"
      ],
      "execution_count": null,
      "outputs": [
        {
          "output_type": "display_data",
          "data": {
            "image/png": "[encoded data removed]",
            "text/plain": [
              "<Figure size 864x360 with 3 Axes>"
            ]
          },
          "metadata": {
            "tags": [],
            "needs_background": "light"
          }
        }
      ]
    },
    {
      "cell_type": "markdown",
      "metadata": {
        "id": "8kPM1LstPTVK"
      },
      "source": [
        "### Conclusion based on Victim\n",
        "* Cluster 1 - Higher Risk\n",
        "* Cluster 0 - Moderate Risk\n",
        "* Cluster 2 - Lower Risk"
      ]
    }
  ]
}